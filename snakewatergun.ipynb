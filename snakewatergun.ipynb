{
 "cells": [
  {
   "cell_type": "code",
   "execution_count": 2,
   "metadata": {},
   "outputs": [],
   "source": [
    "# -1 = Snake  0 = Gun  1 = Water\n",
    "import random\n",
    "def choose_computer():\n",
    "    comp = random.randint(-1,1)\n",
    "    return comp"
   ]
  },
  {
   "cell_type": "code",
   "execution_count": 3,
   "metadata": {},
   "outputs": [
    {
     "data": {
      "text/plain": [
       "-1"
      ]
     },
     "execution_count": 3,
     "metadata": {},
     "output_type": "execute_result"
    }
   ],
   "source": [
    "com_inp = choose_computer()\n",
    "com_inp"
   ]
  },
  {
   "cell_type": "code",
   "execution_count": 4,
   "metadata": {},
   "outputs": [],
   "source": [
    "def user_input():\n",
    "    # name = input(\"Enter your name : \")\n",
    "    choice = 'wrong'\n",
    "    while choice not in [-1,0,1]:\n",
    "        choice = int(input(\"Enter user choice -> -1 for Snake  0 for Gun & 1 for Water :->\"))\n",
    "    print(\"User choice is : \" + str(choice))\n",
    "    return choice"
   ]
  },
  {
   "cell_type": "code",
   "execution_count": 5,
   "metadata": {},
   "outputs": [
    {
     "name": "stdout",
     "output_type": "stream",
     "text": [
      "User choice is : -1\n"
     ]
    },
    {
     "data": {
      "text/plain": [
       "-1"
      ]
     },
     "execution_count": 5,
     "metadata": {},
     "output_type": "execute_result"
    }
   ],
   "source": [
    "user_inp = user_input()\n",
    "user_inp"
   ]
  },
  {
   "cell_type": "code",
   "execution_count": 6,
   "metadata": {},
   "outputs": [],
   "source": [
    "def replay():\n",
    "    want_to_reply = 'wrong'\n",
    "    while want_to_reply not in ['YES','NO','Yes','No','yes','no']:\n",
    "        want_to_reply = input(\"Want to play again? Enter YES or NO \")\n",
    "    \n",
    "    return want_to_reply.lower()[0] == 'y'\n"
   ]
  },
  {
   "cell_type": "code",
   "execution_count": 7,
   "metadata": {},
   "outputs": [],
   "source": [
    "def check_win(com_inp,user_inp):\n",
    "    if(com_inp== user_inp  ):\n",
    "        print(\"Match DIE\")\n",
    "    elif(com_inp==-1 and user_inp==0): # -1 = Snake  0 = Gun  1 = Water\n",
    "        print(\"Congratulations! You have won the game!\")\n",
    "    elif(com_inp==-1 and user_inp==1):\n",
    "        print(\"LOSS\")\n",
    "        print(\"TRY AGAIN\")\n",
    "    elif(com_inp==0 and user_inp==-1):\n",
    "        print(\"LOSS\")\n",
    "        print(\"TRY AGAIN\")\n",
    "    elif(com_inp==0 and user_inp==1):\n",
    "        print(\"Congratulations! You have won the game!\")\n",
    "    elif(com_inp==1 and user_inp==-1):\n",
    "        print(\"Congratulations! You have won the game!\")\n",
    "    else:\n",
    "        print(\"LOSS\")\n",
    "        print(\"TRY AGAIN\")"
   ]
  },
  {
   "cell_type": "code",
   "execution_count": 8,
   "metadata": {},
   "outputs": [
    {
     "name": "stdout",
     "output_type": "stream",
     "text": [
      "WELCOME TO SNAKE GUN WATER GAME\n",
      "-1 for Snake , 0 for Gun , 1 for Water\n",
      "User choice is : -1\n",
      "Computer's choice is : -1\n",
      "Match DIE\n",
      "User choice is : 0\n",
      "Computer's choice is : -1\n",
      "Congratulations! You have won the game!\n"
     ]
    }
   ],
   "source": [
    "print(\"WELCOME TO SNAKE GUN WATER GAME\")\n",
    "print(\"-1 for Snake , 0 for Gun , 1 for Water\")\n",
    "while True:\n",
    "    play_game = 'wrong'\n",
    "    while play_game not in ['YES','NO','Yes','No','yes','no']:\n",
    "        play_game = input('Ready to play? Yes or No?')\n",
    "    if play_game.lower()[0] == 'y':\n",
    "        game_on = True\n",
    "    else:\n",
    "        game_on = False\n",
    "\n",
    "    ## GAME PLAY\n",
    "    while game_on:\n",
    "        com_inp = choose_computer()\n",
    "        user_inp = user_input()\n",
    "\n",
    "        print(\"Computer's choice is : \" + str(com_inp) )\n",
    "        user_inp\n",
    "\n",
    "        check_win(com_inp,user_inp)\n",
    "\n",
    "        if not replay():\n",
    "            game_on = False\n",
    "    \n",
    "    if not game_on or not replay():\n",
    "        break\n",
    "\n"
   ]
  }
 ],
 "metadata": {
  "kernelspec": {
   "display_name": "Python 3",
   "language": "python",
   "name": "python3"
  },
  "language_info": {
   "codemirror_mode": {
    "name": "ipython",
    "version": 3
   },
   "file_extension": ".py",
   "mimetype": "text/x-python",
   "name": "python",
   "nbconvert_exporter": "python",
   "pygments_lexer": "ipython3",
   "version": "3.11.5"
  }
 },
 "nbformat": 4,
 "nbformat_minor": 2
}
